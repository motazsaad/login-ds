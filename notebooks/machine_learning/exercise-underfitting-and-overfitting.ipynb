{
 "cells": [
  {
   "cell_type": "markdown",
   "execution_count": null,
   "metadata": {},
   "source": [
    "**[Machine Learning Micro-Course Home Page](https://www.kaggle.com/learn/intro-to-machine-learning)**\n",
    "\n",
    "---\n"
   ]
  },
  {
   "cell_type": "markdown",
   "execution_count": null,
   "metadata": {},
   "source": [
    "## Recap\n",
    "You've built your first model, and now it's time to optimize the size of the tree to make better predictions. Run this cell to set up your coding environment where the previous step left off."
   ]
  },
  {
   "cell_type": "code",
   "execution_count": 1,
   "metadata": {},
   "outputs": [
    {
     "name": "stdout",
     "output_type": "stream",
     "text": [
      "Validation MAE: 29,653\n",
      "\n",
      "Setup complete\n"
     ]
    }
   ],
   "source": [
    "# Code you have previously used to load data\n",
    "import pandas as pd\n",
    "from sklearn.metrics import mean_absolute_error\n",
    "from sklearn.model_selection import train_test_split\n",
    "from sklearn.tree import DecisionTreeRegressor\n",
    "\n",
    "\n",
    "# Path of the file to read\n",
    "iowa_file_path = '../input/home-data-for-ml-course/train.csv'\n",
    "\n",
    "home_data = pd.read_csv(iowa_file_path)\n",
    "# Create target object and call it y\n",
    "y = home_data.SalePrice\n",
    "# Create X\n",
    "features = ['LotArea', 'YearBuilt', '1stFlrSF', '2ndFlrSF', 'FullBath', 'BedroomAbvGr', 'TotRmsAbvGrd']\n",
    "X = home_data[features]\n",
    "\n",
    "# Split into validation and training data\n",
    "train_X, val_X, train_y, val_y = train_test_split(X, y, random_state=1)\n",
    "\n",
    "# Specify Model\n",
    "iowa_model = DecisionTreeRegressor(random_state=1)\n",
    "# Fit Model\n",
    "iowa_model.fit(train_X, train_y)\n",
    "\n",
    "# Make validation predictions and calculate mean absolute error\n",
    "val_predictions = iowa_model.predict(val_X)\n",
    "val_mae = mean_absolute_error(val_predictions, val_y)\n",
    "print(\"Validation MAE: {:,.0f}\".format(val_mae))\n",
    "\n",
    "# Set up code checking\n",
    "from learntools.core import binder\n",
    "binder.bind(globals())\n",
    "from learntools.machine_learning.ex5 import *\n",
    "print(\"\\nSetup complete\")"
   ]
  },
  {
   "cell_type": "markdown",
   "execution_count": null,
   "metadata": {},
   "source": [
    "# Exercises\n",
    "You could write the function `get_mae` yourself. For now, we'll supply it. This is the same function you read about in the previous lesson. Just run the cell below."
   ]
  },
  {
   "cell_type": "code",
   "execution_count": 2,
   "metadata": {},
   "outputs": [],
   "source": [
    "def get_mae(max_leaf_nodes, train_X, val_X, train_y, val_y):\n",
    "    model = DecisionTreeRegressor(max_leaf_nodes=max_leaf_nodes, random_state=0)\n",
    "    model.fit(train_X, train_y)\n",
    "    preds_val = model.predict(val_X)\n",
    "    mae = mean_absolute_error(val_y, preds_val)\n",
    "    return(mae)"
   ]
  },
  {
   "cell_type": "markdown",
   "execution_count": null,
   "metadata": {},
   "source": [
    "## Step 1: Compare Different Tree Sizes\n",
    "Write a loop that tries the following values for *max_leaf_nodes* from a set of possible values.\n",
    "\n",
    "Call the *get_mae* function on each value of max_leaf_nodes. Store the output in some way that allows you to select the value of `max_leaf_nodes` that gives the most accurate model on your data."
   ]
  },
  {
   "cell_type": "code",
   "execution_count": 3,
   "metadata": {},
   "outputs": [
    {
     "name": "stdout",
     "output_type": "stream",
     "text": [
      "min mae 27282.50803885739 best tree size 100\n"
     ]
    },
    {
     "data": {
      "application/javascript": [
       "parent.postMessage({\"jupyterEvent\": \"custom.exercise_interaction\", \"data\": {\"outcomeType\": 1, \"valueTowardsCompletion\": 0.5, \"interactionType\": 1, \"questionType\": 1, \"learnTutorialId\": 120, \"questionId\": \"1_BestTreeSize\", \"learnToolsVersion\": \"0.3.1\", \"failureMessage\": \"\", \"exceptionClass\": \"\", \"trace\": \"\"}}, \"*\")"
      ],
      "text/plain": [
       "<IPython.core.display.Javascript object>"
      ]
     },
     "metadata": {},
     "output_type": "display_data"
    },
    {
     "data": {
      "text/markdown": [
       "<span style=\"color:#33cc33\">Correct</span>"
      ],
      "text/plain": [
       "Correct"
      ]
     },
     "metadata": {},
     "output_type": "display_data"
    }
   ],
   "source": [
    "candidate_max_leaf_nodes = [5, 25, 50, 100, 250, 500]\n",
    "# Write loop to find the ideal tree size from candidate_max_leaf_nodes\n",
    "min_mae =  get_mae(candidate_max_leaf_nodes[0], train_X, val_X, train_y, val_y)\n",
    "best_index = 0\n",
    "for i in range(1, len(candidate_max_leaf_nodes)):\n",
    "    mae = get_mae(candidate_max_leaf_nodes[i], train_X, val_X, train_y, val_y)\n",
    "    if mae < min_mae:\n",
    "        min_mae = mae\n",
    "        best_index = i \n",
    "        \n",
    "\n",
    "# Store the best value of max_leaf_nodes (it will be either 5, 25, 50, 100, 250 or 500)\n",
    "best_tree_size = candidate_max_leaf_nodes[best_index]\n",
    "print('min mae', min_mae, 'best tree size', best_tree_size)\n",
    "step_1.check()"
   ]
  },
  {
   "cell_type": "code",
   "execution_count": 4,
   "metadata": {},
   "outputs": [
    {
     "data": {
      "application/javascript": [
       "parent.postMessage({\"jupyterEvent\": \"custom.exercise_interaction\", \"data\": {\"outcomeType\": 1, \"valueTowardsCompletion\": 0.5, \"interactionType\": 1, \"questionType\": 1, \"learnTutorialId\": 120, \"questionId\": \"1_BestTreeSize\", \"learnToolsVersion\": \"0.3.1\", \"failureMessage\": \"\", \"exceptionClass\": \"\", \"trace\": \"\"}}, \"*\")"
      ],
      "text/plain": [
       "<IPython.core.display.Javascript object>"
      ]
     },
     "metadata": {},
     "output_type": "display_data"
    },
    {
     "data": {
      "text/markdown": [
       "<span style=\"color:#33cc33\">Correct</span>"
      ],
      "text/plain": [
       "Correct"
      ]
     },
     "metadata": {},
     "output_type": "display_data"
    }
   ],
   "source": [
    "candidate_max_leaf_nodes = [5, 25, 50, 100, 250, 500]\n",
    "# candidate_max_leaf_nodes = list(range(5, 500))\n",
    "# print(candidate_max_leaf_nodes)\n",
    "# Write loop to find the ideal tree size from candidate_max_leaf_nodes\n",
    "mae_dict = {}\n",
    "for i in range(len(candidate_max_leaf_nodes)):\n",
    "    mae = get_mae(candidate_max_leaf_nodes[i], train_X, val_X, train_y, val_y)\n",
    "    mae_dict[candidate_max_leaf_nodes[i]] = mae\n",
    "    \n",
    "# print(mae_dict) \n",
    "# print(sorted(  [(v,k) for k,v in mae_dict.items()]  )[0][1])\n",
    "\n",
    "# Store the best value of max_leaf_nodes (it will be either 5, 25, 50, 100, 250 or 500)\n",
    "best_tree_size = sorted(  [(v,k) for k,v in mae_dict.items()]  )[0][1]\n",
    "\n",
    "step_1.check()"
   ]
  },
  {
   "cell_type": "markdown",
   "execution_count": null,
   "metadata": {},
   "source": [
    "## Step 2: Fit Model Using All Data\n",
    "You know the best tree size. If you were going to deploy this model in practice, you would make it even more accurate by using all of the data and keeping that tree size.  That is, you don't need to hold out the validation data now that you've made all your modeling decisions."
   ]
  },
  {
   "cell_type": "code",
   "execution_count": 5,
   "metadata": {},
   "outputs": [
    {
     "data": {
      "application/javascript": [
       "parent.postMessage({\"jupyterEvent\": \"custom.exercise_interaction\", \"data\": {\"outcomeType\": 1, \"valueTowardsCompletion\": 0.5, \"interactionType\": 1, \"questionType\": 2, \"learnTutorialId\": 120, \"questionId\": \"2_FitModelWithAllData\", \"learnToolsVersion\": \"0.3.1\", \"failureMessage\": \"\", \"exceptionClass\": \"\", \"trace\": \"\"}}, \"*\")"
      ],
      "text/plain": [
       "<IPython.core.display.Javascript object>"
      ]
     },
     "metadata": {},
     "output_type": "display_data"
    },
    {
     "data": {
      "text/markdown": [
       "<span style=\"color:#33cc33\">Correct</span>"
      ],
      "text/plain": [
       "Correct"
      ]
     },
     "metadata": {},
     "output_type": "display_data"
    }
   ],
   "source": [
    "# Fill in argument to make optimal size and uncomment\n",
    "final_model = DecisionTreeRegressor(max_leaf_nodes=best_tree_size, random_state=0)\n",
    "\n",
    "# fit the final model and uncomment the next two lines\n",
    "final_model.fit(X, y)\n",
    "step_2.check()"
   ]
  },
  {
   "cell_type": "code",
   "execution_count": 6,
   "metadata": {},
   "outputs": [],
   "source": [
    "# The lines below will show you a hint or the solution.\n",
    "# step_1.hint() \n",
    "# step_1.solution()"
   ]
  },
  {
   "cell_type": "code",
   "execution_count": 7,
   "metadata": {},
   "outputs": [],
   "source": [
    "# step_2.hint()\n",
    "# step_2.solution()"
   ]
  },
  {
   "cell_type": "markdown",
   "execution_count": null,
   "metadata": {},
   "source": [
    "# Fine-grain hypterparameter tunning "
   ]
  },
  {
   "cell_type": "code",
   "execution_count": 8,
   "metadata": {},
   "outputs": [
    {
     "name": "stdout",
     "output_type": "stream",
     "text": [
      "[10, 20, 30, 40, 50, 60, 70, 80, 90, 100, 110, 120, 130, 140, 150, 160, 170, 180, 190, 200, 210, 220, 230, 240, 250, 260, 270, 280, 290, 300, 310, 320, 330, 340, 350, 360, 370, 380, 390, 400, 410, 420, 430, 440, 450, 460, 470, 480, 490]\n"
     ]
    }
   ],
   "source": [
    "candidate_max_leaf_nodes = list(range(10, 500, 10))\n",
    "print(candidate_max_leaf_nodes)"
   ]
  },
  {
   "cell_type": "code",
   "execution_count": 9,
   "metadata": {},
   "outputs": [
    {
     "name": "stdout",
     "output_type": "stream",
     "text": [
      "{10: 31585.432831537662, 20: 28707.31479747764, 30: 28877.041068486968, 40: 28106.18249209847, 50: 27405.930473214907, 60: 27110.899339368298, 70: 26763.340028993345, 80: 27389.89243288238, 90: 27411.5488346623, 100: 27282.50803885739, 110: 27402.85016055508, 120: 27503.084294894878, 130: 27638.595237154954, 140: 27422.563436930825, 150: 27417.4149615415, 160: 27588.57762309295, 170: 27849.066592456176, 180: 27854.361599616655, 190: 27769.774060229676, 200: 28135.69164341533, 210: 27675.31432397451, 220: 27700.304809213194, 230: 27744.424720448318, 240: 27725.35635812174, 250: 27893.822225701646, 260: 27933.819168870094, 270: 27982.3481316881, 280: 28331.958565478057, 290: 28574.11420045591, 300: 28350.54685142823, 310: 28439.069098326436, 320: 28489.99252793336, 330: 28344.258473428756, 340: 28550.228158811868, 350: 28557.56405369324, 360: 28475.46453456701, 370: 28441.097867900342, 380: 28663.345041350938, 390: 28743.211092780886, 400: 28807.421790758704, 410: 28821.017200866107, 420: 28845.644116762363, 430: 28886.005608390977, 440: 29062.195629146474, 450: 29054.792889420452, 460: 29090.36457891817, 470: 29162.219495842946, 480: 29311.87111576032, 490: 29326.9791066279}\n"
     ]
    }
   ],
   "source": [
    "# Write loop to find the ideal tree size from candidate_max_leaf_nodes\n",
    "mae_dict = {}\n",
    "for i in range(len(candidate_max_leaf_nodes)):\n",
    "    mae = get_mae(candidate_max_leaf_nodes[i], train_X, val_X, train_y, val_y)\n",
    "    mae_dict[candidate_max_leaf_nodes[i]] = mae\n",
    "print(mae_dict)"
   ]
  },
  {
   "cell_type": "code",
   "execution_count": 10,
   "metadata": {},
   "outputs": [
    {
     "data": {
      "text/plain": [
       "[(26763.340028993345, 70),\n",
       " (27110.899339368298, 60),\n",
       " (27282.50803885739, 100),\n",
       " (27389.89243288238, 80),\n",
       " (27402.85016055508, 110),\n",
       " (27405.930473214907, 50),\n",
       " (27411.5488346623, 90),\n",
       " (27417.4149615415, 150),\n",
       " (27422.563436930825, 140),\n",
       " (27503.084294894878, 120),\n",
       " (27588.57762309295, 160),\n",
       " (27638.595237154954, 130),\n",
       " (27675.31432397451, 210),\n",
       " (27700.304809213194, 220),\n",
       " (27725.35635812174, 240),\n",
       " (27744.424720448318, 230),\n",
       " (27769.774060229676, 190),\n",
       " (27849.066592456176, 170),\n",
       " (27854.361599616655, 180),\n",
       " (27893.822225701646, 250),\n",
       " (27933.819168870094, 260),\n",
       " (27982.3481316881, 270),\n",
       " (28106.18249209847, 40),\n",
       " (28135.69164341533, 200),\n",
       " (28331.958565478057, 280),\n",
       " (28344.258473428756, 330),\n",
       " (28350.54685142823, 300),\n",
       " (28439.069098326436, 310),\n",
       " (28441.097867900342, 370),\n",
       " (28475.46453456701, 360),\n",
       " (28489.99252793336, 320),\n",
       " (28550.228158811868, 340),\n",
       " (28557.56405369324, 350),\n",
       " (28574.11420045591, 290),\n",
       " (28663.345041350938, 380),\n",
       " (28707.31479747764, 20),\n",
       " (28743.211092780886, 390),\n",
       " (28807.421790758704, 400),\n",
       " (28821.017200866107, 410),\n",
       " (28845.644116762363, 420),\n",
       " (28877.041068486968, 30),\n",
       " (28886.005608390977, 430),\n",
       " (29054.792889420452, 450),\n",
       " (29062.195629146474, 440),\n",
       " (29090.36457891817, 460),\n",
       " (29162.219495842946, 470),\n",
       " (29311.87111576032, 480),\n",
       " (29326.9791066279, 490),\n",
       " (31585.432831537662, 10)]"
      ]
     },
     "execution_count": 10,
     "metadata": {},
     "output_type": "execute_result"
    }
   ],
   "source": [
    "r_mae_dict = [ (v,k) for k,v in mae_dict.items() ]\n",
    "\n",
    "best_tree_size = sorted(   r_mae_dict  )\n",
    "\n",
    "best_tree_size"
   ]
  },
  {
   "cell_type": "code",
   "execution_count": 11,
   "metadata": {},
   "outputs": [
    {
     "data": {
      "text/plain": [
       "[(26763.340028993345,\n",
       "  27110.899339368298,\n",
       "  27282.50803885739,\n",
       "  27389.89243288238,\n",
       "  27402.85016055508,\n",
       "  27405.930473214907,\n",
       "  27411.5488346623,\n",
       "  27417.4149615415,\n",
       "  27422.563436930825,\n",
       "  27503.084294894878,\n",
       "  27588.57762309295,\n",
       "  27638.595237154954,\n",
       "  27675.31432397451,\n",
       "  27700.304809213194,\n",
       "  27725.35635812174,\n",
       "  27744.424720448318,\n",
       "  27769.774060229676,\n",
       "  27849.066592456176,\n",
       "  27854.361599616655,\n",
       "  27893.822225701646,\n",
       "  27933.819168870094,\n",
       "  27982.3481316881,\n",
       "  28106.18249209847,\n",
       "  28135.69164341533,\n",
       "  28331.958565478057,\n",
       "  28344.258473428756,\n",
       "  28350.54685142823,\n",
       "  28439.069098326436,\n",
       "  28441.097867900342,\n",
       "  28475.46453456701,\n",
       "  28489.99252793336,\n",
       "  28550.228158811868,\n",
       "  28557.56405369324,\n",
       "  28574.11420045591,\n",
       "  28663.345041350938,\n",
       "  28707.31479747764,\n",
       "  28743.211092780886,\n",
       "  28807.421790758704,\n",
       "  28821.017200866107,\n",
       "  28845.644116762363,\n",
       "  28877.041068486968,\n",
       "  28886.005608390977,\n",
       "  29054.792889420452,\n",
       "  29062.195629146474,\n",
       "  29090.36457891817,\n",
       "  29162.219495842946,\n",
       "  29311.87111576032,\n",
       "  29326.9791066279,\n",
       "  31585.432831537662),\n",
       " (70,\n",
       "  60,\n",
       "  100,\n",
       "  80,\n",
       "  110,\n",
       "  50,\n",
       "  90,\n",
       "  150,\n",
       "  140,\n",
       "  120,\n",
       "  160,\n",
       "  130,\n",
       "  210,\n",
       "  220,\n",
       "  240,\n",
       "  230,\n",
       "  190,\n",
       "  170,\n",
       "  180,\n",
       "  250,\n",
       "  260,\n",
       "  270,\n",
       "  40,\n",
       "  200,\n",
       "  280,\n",
       "  330,\n",
       "  300,\n",
       "  310,\n",
       "  370,\n",
       "  360,\n",
       "  320,\n",
       "  340,\n",
       "  350,\n",
       "  290,\n",
       "  380,\n",
       "  20,\n",
       "  390,\n",
       "  400,\n",
       "  410,\n",
       "  420,\n",
       "  30,\n",
       "  430,\n",
       "  450,\n",
       "  440,\n",
       "  460,\n",
       "  470,\n",
       "  480,\n",
       "  490,\n",
       "  10)]"
      ]
     },
     "execution_count": 11,
     "metadata": {},
     "output_type": "execute_result"
    }
   ],
   "source": [
    "list(zip(*best_tree_size))"
   ]
  },
  {
   "cell_type": "code",
   "execution_count": 12,
   "metadata": {},
   "outputs": [
    {
     "data": {
      "image/png": "[encoded data removed]",
      "text/plain": [
       "<Figure size 1440x432 with 1 Axes>"
      ]
     },
     "metadata": {
      "needs_background": "light"
     },
     "output_type": "display_data"
    }
   ],
   "source": [
    "import matplotlib.pylab as plt\n",
    "\n",
    "x, y = zip(*best_tree_size) # unpack a list of pairs into two tuples\n",
    "\n",
    "plt.figure(figsize=(20, 6))\n",
    "plt.plot(x, y)\n",
    "plt.show()"
   ]
  },
  {
   "cell_type": "code",
   "execution_count": 13,
   "metadata": {},
   "outputs": [
    {
     "data": {
      "text/plain": [
       "(26763.340028993345, 70)"
      ]
     },
     "execution_count": 13,
     "metadata": {},
     "output_type": "execute_result"
    }
   ],
   "source": [
    "best_tree_size[0]"
   ]
  },
  {
   "cell_type": "code",
   "execution_count": 14,
   "metadata": {},
   "outputs": [
    {
     "data": {
      "text/plain": [
       "70"
      ]
     },
     "execution_count": 14,
     "metadata": {},
     "output_type": "execute_result"
    }
   ],
   "source": [
    "best_tree_size[0][1]"
   ]
  },
  {
   "cell_type": "code",
   "execution_count": 15,
   "metadata": {},
   "outputs": [
    {
     "name": "stdout",
     "output_type": "stream",
     "text": [
      "best max leaf node = 70, with error = 26763.340028993345\n"
     ]
    }
   ],
   "source": [
    "print(f'best max leaf node = {best_tree_size[0][1]}, with error = {best_tree_size[0][0]}')"
   ]
  },
  {
   "cell_type": "markdown",
   "execution_count": null,
   "metadata": {},
   "source": [
    "You've tuned this model and improved your results. But we are still using Decision Tree models, which are not very sophisticated by modern machine learning standards. In the next step you will learn to use Random Forests to improve your models even more.\n",
    "\n",
    "# Keep Going\n",
    "\n",
    "You are ready for **[Random Forests](https://www.kaggle.com/dansbecker/random-forests).**\n"
   ]
  },
  {
   "cell_type": "markdown",
   "execution_count": null,
   "metadata": {},
   "source": [
    "---\n",
    "**[Machine Learning Micro-Course Home Page](https://www.kaggle.com/learn/intro-to-machine-learning)**\n",
    "\n"
   ]
  }
 ],
 "metadata": {
  "kernelspec": {
   "display_name": "Python 3",
   "language": "python",
   "name": "python3"
  },
  "language_info": {
   "codemirror_mode": {
    "name": "ipython",
    "version": 3
   },
   "file_extension": ".py",
   "mimetype": "text/x-python",
   "name": "python",
   "nbconvert_exporter": "python",
   "pygments_lexer": "ipython3",
   "version": "3.6.6"
  }
 },
 "nbformat": 4,
 "nbformat_minor": 4
}
