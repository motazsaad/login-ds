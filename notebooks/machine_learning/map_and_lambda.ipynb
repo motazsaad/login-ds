{
  "nbformat": 4,
  "nbformat_minor": 0,
  "metadata": {
    "colab": {
      "name": "map and lambda.ipynb",
      "provenance": [],
      "collapsed_sections": []
    },
    "kernelspec": {
      "name": "python3",
      "display_name": "Python 3"
    }
  },
  "cells": [
    {
      "cell_type": "markdown",
      "metadata": {
        "id": "CF9IITmNaZbY",
        "colab_type": "text"
      },
      "source": [
        "# Map in python "
      ]
    },
    {
      "cell_type": "code",
      "metadata": {
        "id": "9ak5m-xrQzco",
        "colab_type": "code",
        "colab": {
          "base_uri": "https://localhost:8080/",
          "height": 34
        },
        "outputId": "da56613a-bcd5-4ee6-8098-d6becd3b5d78"
      },
      "source": [
        "l1 = ['apple', 'banana', 'ornage', 'potatos', 'tomatos']\n",
        "l1"
      ],
      "execution_count": 2,
      "outputs": [
        {
          "output_type": "execute_result",
          "data": {
            "text/plain": [
              "['apple', 'banana', 'ornage', 'potatos', 'tomatos']"
            ]
          },
          "metadata": {
            "tags": []
          },
          "execution_count": 2
        }
      ]
    },
    {
      "cell_type": "code",
      "metadata": {
        "id": "WB7IEG59REHI",
        "colab_type": "code",
        "colab": {}
      },
      "source": [
        "def get_list_len(alist):\n",
        "  list_len = []\n",
        "  for e in alist:\n",
        "    list_len.append(len(e))\n",
        "  return list_len"
      ],
      "execution_count": 3,
      "outputs": []
    },
    {
      "cell_type": "code",
      "metadata": {
        "id": "gxcmRdkHRXte",
        "colab_type": "code",
        "colab": {
          "base_uri": "https://localhost:8080/",
          "height": 34
        },
        "outputId": "d272245b-c116-409c-eec5-b2aabf789e80"
      },
      "source": [
        "get_list_len(l1)"
      ],
      "execution_count": 4,
      "outputs": [
        {
          "output_type": "execute_result",
          "data": {
            "text/plain": [
              "[5, 6, 6, 7, 7]"
            ]
          },
          "metadata": {
            "tags": []
          },
          "execution_count": 4
        }
      ]
    },
    {
      "cell_type": "code",
      "metadata": {
        "id": "KZ03SLvvZ7HR",
        "colab_type": "code",
        "colab": {}
      },
      "source": [
        "def get_word_len(word):\n",
        "  return len(word)"
      ],
      "execution_count": 14,
      "outputs": []
    },
    {
      "cell_type": "code",
      "metadata": {
        "id": "P-YhJSNZaCel",
        "colab_type": "code",
        "colab": {
          "base_uri": "https://localhost:8080/",
          "height": 34
        },
        "outputId": "04147dca-8e27-4237-97a1-231a5c446bc8"
      },
      "source": [
        "list(map(get_word_len, l1))"
      ],
      "execution_count": 16,
      "outputs": [
        {
          "output_type": "execute_result",
          "data": {
            "text/plain": [
              "[5, 6, 6, 7, 7]"
            ]
          },
          "metadata": {
            "tags": []
          },
          "execution_count": 16
        }
      ]
    },
    {
      "cell_type": "markdown",
      "metadata": {
        "id": "64-smr17ad8c",
        "colab_type": "text"
      },
      "source": [
        "# Lambda in python "
      ]
    },
    {
      "cell_type": "code",
      "metadata": {
        "id": "g52l-nFWalKG",
        "colab_type": "code",
        "colab": {}
      },
      "source": [
        "x = lambda a : a + 10\n",
        "\n",
        "#def x1(a):\n",
        "#  return a + 10 "
      ],
      "execution_count": 18,
      "outputs": []
    },
    {
      "cell_type": "code",
      "metadata": {
        "id": "yZtHola2a_ZU",
        "colab_type": "code",
        "colab": {
          "base_uri": "https://localhost:8080/",
          "height": 34
        },
        "outputId": "99e64ca8-16bb-4490-bb27-29072e06abc4"
      },
      "source": [
        "x(3)"
      ],
      "execution_count": 19,
      "outputs": [
        {
          "output_type": "execute_result",
          "data": {
            "text/plain": [
              "13"
            ]
          },
          "metadata": {
            "tags": []
          },
          "execution_count": 19
        }
      ]
    },
    {
      "cell_type": "code",
      "metadata": {
        "id": "nA4UGGl7bfs7",
        "colab_type": "code",
        "colab": {
          "base_uri": "https://localhost:8080/",
          "height": 50
        },
        "outputId": "eb999214-2789-4ad9-b268-d151a62cc738"
      },
      "source": [
        "d = {'a': 1, 'b':2}\n",
        "for k, y in d.items():\n",
        "  print(k)"
      ],
      "execution_count": 22,
      "outputs": [
        {
          "output_type": "stream",
          "text": [
            "a\n",
            "b\n"
          ],
          "name": "stdout"
        }
      ]
    },
    {
      "cell_type": "code",
      "metadata": {
        "id": "NByCVwMaTQEE",
        "colab_type": "code",
        "colab": {
          "base_uri": "https://localhost:8080/",
          "height": 34
        },
        "outputId": "96635d70-3af9-4b35-e7ec-f8419d6e89ad"
      },
      "source": [
        "import random\n",
        "\n",
        "random.seed(10)\n",
        "print(random.random())"
      ],
      "execution_count": 7,
      "outputs": [
        {
          "output_type": "stream",
          "text": [
            "0.5714025946899135\n"
          ],
          "name": "stdout"
        }
      ]
    },
    {
      "cell_type": "code",
      "metadata": {
        "id": "QDJKSC9jUMNN",
        "colab_type": "code",
        "colab": {}
      },
      "source": [
        "import numpy as np\n",
        "X, y = np.arange(10).reshape((5, 2)), range(5)"
      ],
      "execution_count": 10,
      "outputs": []
    },
    {
      "cell_type": "code",
      "metadata": {
        "id": "40GdAxbuUXFo",
        "colab_type": "code",
        "colab": {}
      },
      "source": [
        "from sklearn.model_selection import train_test_split\n",
        "X_train, X_test, y_train, y_test = train_test_split(\n",
        "       X, y, test_size=0.33, random_state=100)"
      ],
      "execution_count": 12,
      "outputs": []
    }
  ]
}