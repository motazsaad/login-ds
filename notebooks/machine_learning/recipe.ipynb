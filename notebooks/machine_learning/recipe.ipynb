{
  "nbformat": 4,
  "nbformat_minor": 0,
  "metadata": {
    "colab": {
      "name": "recipe.ipynb",
      "provenance": [],
      "collapsed_sections": []
    },
    "kernelspec": {
      "name": "python3",
      "display_name": "Python 3"
    }
  },
  "cells": [
    {
      "cell_type": "markdown",
      "metadata": {
        "id": "dTYMN-DQmw9Q",
        "colab_type": "text"
      },
      "source": [
        "# load your data "
      ]
    },
    {
      "cell_type": "code",
      "metadata": {
        "id": "9q7p0XImmktW",
        "colab_type": "code",
        "colab": {}
      },
      "source": [
        "df = pd.read_csv(filepath)\n",
        "df"
      ],
      "execution_count": null,
      "outputs": []
    },
    {
      "cell_type": "markdown",
      "metadata": {
        "id": "_TVTxWnFm1B8",
        "colab_type": "text"
      },
      "source": [
        "# discover your data \n",
        "## define target \n",
        "## checking missing values, and value counts "
      ]
    },
    {
      "cell_type": "code",
      "metadata": {
        "id": "hIPvSSD4mumf",
        "colab_type": "code",
        "colab": {}
      },
      "source": [
        "target_col = 'col'\n",
        "print(df[target_col].unique())\n",
        "print('-----------------------')\n",
        "print(df[target_col].value_counts())\n",
        "print('-----------------------')\n",
        "print(df.dtypes)\n",
        "print('-----------------------')\n",
        "print(df.isna().sum())"
      ],
      "execution_count": null,
      "outputs": []
    },
    {
      "cell_type": "markdown",
      "metadata": {
        "id": "rD9T8MRRnCTE",
        "colab_type": "text"
      },
      "source": [
        "# prepare X, y and split data "
      ]
    },
    {
      "cell_type": "code",
      "metadata": {
        "id": "7adOaXXBmwNc",
        "colab_type": "code",
        "colab": {}
      },
      "source": [
        "y = df[target_col]\n",
        "X = df.drop(columns=[target_col])\n",
        "from sklearn.model_selection import train_test_split\n",
        "X_train, X_test, y_train, y_test = train_test_split(X, y)\n"
      ],
      "execution_count": null,
      "outputs": []
    },
    {
      "cell_type": "markdown",
      "metadata": {
        "id": "8KGFjxWQnHqb",
        "colab_type": "text"
      },
      "source": [
        "# Hyperparameter range "
      ]
    },
    {
      "cell_type": "code",
      "metadata": {
        "id": "HBB8MYRunJxb",
        "colab_type": "code",
        "colab": {}
      },
      "source": [
        "para = list(range(100, 601, 100))\n",
        "print(para)"
      ],
      "execution_count": null,
      "outputs": []
    },
    {
      "cell_type": "markdown",
      "metadata": {
        "id": "l1TRR6xMnMgk",
        "colab_type": "text"
      },
      "source": [
        "# build model + parameter tuning "
      ]
    },
    {
      "cell_type": "code",
      "metadata": {
        "id": "4cUrsXc5nLsr",
        "colab_type": "code",
        "colab": {}
      },
      "source": [
        "from sklearn.neighbors import KNeighborsClassifier\n",
        "from sklearn.ensemble import RandomForestClassifier\n",
        "from sklearn.metrics import classification_report, accuracy_score, f1_score\n",
        "results = {}\n",
        "for n in para:\n",
        "    print('para=', n)\n",
        "    model = RandomForestClassifier(n_estimators=n)\n",
        "    model.fit(X_train, y_train)\n",
        "    preds = model.predict(X_test)\n",
        "    accu = accuracy_score(y_true=y_test, y_pred=preds)\n",
        "    f1 = f1_score(y_true=y_test, y_pred=preds, average='micro')\n",
        "    print(classification_report(y_true=y_test, y_pred=preds))\n",
        "    print('--------------------------')\n",
        "    results[n] = f1"
      ],
      "execution_count": null,
      "outputs": []
    },
    {
      "cell_type": "markdown",
      "metadata": {
        "id": "Rymna-4anSLz",
        "colab_type": "text"
      },
      "source": [
        "# show results "
      ]
    },
    {
      "cell_type": "code",
      "metadata": {
        "id": "laNGd63LnTus",
        "colab_type": "code",
        "colab": {}
      },
      "source": [
        "import matplotlib.pylab as plt\n",
        "# sorted by key, return a list of tuples\n",
        "lists = sorted(results.items()) \n",
        "p, a = zip(*lists) # unpack a list of pairs into two tuples\n",
        "plt.plot(p, a)\n",
        "plt.show()"
      ],
      "execution_count": null,
      "outputs": []
    },
    {
      "cell_type": "markdown",
      "metadata": {
        "id": "K9vp-SNanVyE",
        "colab_type": "text"
      },
      "source": [
        "# select best parameters "
      ]
    },
    {
      "cell_type": "code",
      "metadata": {
        "id": "yuQxw9TCnYCS",
        "colab_type": "code",
        "colab": {}
      },
      "source": [
        "best_para = max(results, key=results.get)\n",
        "print('best para', best_para)\n",
        "print('value', results[best_para])\n",
        "\n",
        "\n"
      ],
      "execution_count": null,
      "outputs": []
    },
    {
      "cell_type": "markdown",
      "metadata": {
        "id": "e8S7DcOinZTj",
        "colab_type": "text"
      },
      "source": [
        "# write predcitions "
      ]
    },
    {
      "cell_type": "code",
      "metadata": {
        "id": "7DDWxo7YncbX",
        "colab_type": "code",
        "colab": {}
      },
      "source": [
        "sub_df.to_csv('sub.csv', index=False)"
      ],
      "execution_count": null,
      "outputs": []
    }
  ]
}