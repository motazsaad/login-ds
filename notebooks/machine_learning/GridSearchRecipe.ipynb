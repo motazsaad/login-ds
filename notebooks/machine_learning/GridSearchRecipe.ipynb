{
  "nbformat": 4,
  "nbformat_minor": 0,
  "metadata": {
    "colab": {
      "name": "GridSearchRecipe.ipynb",
      "provenance": [],
      "collapsed_sections": []
    },
    "kernelspec": {
      "name": "python3",
      "display_name": "Python 3"
    }
  },
  "cells": [
    {
      "cell_type": "code",
      "metadata": {
        "id": "2ZIN-WDbqvwE",
        "colab_type": "code",
        "colab": {}
      },
      "source": [
        "parameters = [{\n",
        "'n_estimators': list(range(100, 1001, 100)), \n",
        "'learning_rate': [x / 100 for x in range(5, 101, 5)]\n",
        "}]\t\t\t\t\t\t\t\n",
        "from sklearn.model_selection import GridSearchCV\n",
        "gsearch = GridSearchCV(estimator=XGBRegressor(),\n",
        "                       param_grid = parameters, \n",
        "                       scoring='neg_mean_absolute_error',\n",
        "                       n_jobs=4,cv=5)\n",
        "\n",
        "gsearch.fit(X_train, y_train)\n",
        "\n",
        "gsearch.best_params_.get('n_estimators'), gsearch.best_params_.get('learning_rate')\n"
      ],
      "execution_count": null,
      "outputs": []
    }
  ]
}